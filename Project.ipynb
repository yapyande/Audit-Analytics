{
 "cells": [
  {
   "cell_type": "code",
   "execution_count": 3,
   "id": "f138ad75",
   "metadata": {},
   "outputs": [],
   "source": [
    "import pandas as pd\n",
    "import numpy as np\n",
    "import matplotlib.pyplot as plt"
   ]
  },
  {
   "cell_type": "code",
   "execution_count": null,
   "id": "9dccac12",
   "metadata": {},
   "outputs": [
    {
     "name": "stdout",
     "output_type": "stream",
     "text": [
      "     month        town flat_type block        street_name storey_range  \\\n",
      "0  2017-01  ANG MO KIO    2 ROOM   406  ANG MO KIO AVE 10     10 TO 12   \n",
      "1  2017-01  ANG MO KIO    3 ROOM   108   ANG MO KIO AVE 4     01 TO 03   \n",
      "2  2017-01  ANG MO KIO    3 ROOM   602   ANG MO KIO AVE 5     01 TO 03   \n",
      "3  2017-01  ANG MO KIO    3 ROOM   465  ANG MO KIO AVE 10     04 TO 06   \n",
      "4  2017-01  ANG MO KIO    3 ROOM   601   ANG MO KIO AVE 5     01 TO 03   \n",
      "\n",
      "   floor_area_sqm      flat_model  lease_commence_date     remaining_lease  \\\n",
      "0            44.0        Improved                 1979  61 years 04 months   \n",
      "1            67.0  New Generation                 1978  60 years 07 months   \n",
      "2            67.0  New Generation                 1980  62 years 05 months   \n",
      "3            68.0  New Generation                 1980   62 years 01 month   \n",
      "4            67.0  New Generation                 1980  62 years 05 months   \n",
      "\n",
      "   resale_price  \n",
      "0      232000.0  \n",
      "1      250000.0  \n",
      "2      262000.0  \n",
      "3      265000.0  \n",
      "4      265000.0  \n",
      "  rent_approval_date        town block       street_name flat_type  \\\n",
      "0            2021-01  ANG MO KIO   105  ANG MO KIO AVE 4    4-ROOM   \n",
      "1            2021-01  ANG MO KIO   107  ANG MO KIO AVE 4    3-ROOM   \n",
      "2            2021-01  ANG MO KIO   108  ANG MO KIO AVE 4    3-ROOM   \n",
      "3            2021-01  ANG MO KIO   111  ANG MO KIO AVE 4    5-ROOM   \n",
      "4            2021-01  ANG MO KIO   111  ANG MO KIO AVE 4    5-ROOM   \n",
      "\n",
      "   monthly_rent  \n",
      "0          2000  \n",
      "1          1750  \n",
      "2          1750  \n",
      "3          2230  \n",
      "4          2450  \n",
      "['ANG MO KIO' 'BEDOK' 'BISHAN' 'BUKIT BATOK' 'BUKIT MERAH' 'BUKIT PANJANG'\n",
      " 'BUKIT TIMAH' 'CENTRAL AREA' 'CHOA CHU KANG' 'CLEMENTI' 'GEYLANG'\n",
      " 'HOUGANG' 'JURONG EAST' 'JURONG WEST' 'KALLANG/WHAMPOA' 'MARINE PARADE'\n",
      " 'PASIR RIS' 'PUNGGOL' 'QUEENSTOWN' 'SEMBAWANG' 'SENGKANG' 'SERANGOON'\n",
      " 'TAMPINES' 'TOA PAYOH' 'WOODLANDS' 'YISHUN']\n",
      "['ANG MO KIO' 'BEDOK' 'BISHAN' 'BUKIT BATOK' 'BUKIT MERAH' 'BUKIT PANJANG'\n",
      " 'BUKIT TIMAH' 'CENTRAL' 'CHOA CHU KANG' 'CLEMENTI' 'GEYLANG' 'HOUGANG'\n",
      " 'JURONG EAST' 'JURONG WEST' 'KALLANG/WHAMPOA' 'MARINE PARADE' 'PASIR RIS'\n",
      " 'PUNGGOL' 'QUEENSTOWN' 'SEMBAWANG' 'SENGKANG' 'SERANGOON' 'TAMPINES'\n",
      " 'TOA PAYOH' 'WOODLANDS' 'YISHUN' 'TENGAH']\n"
     ]
    }
   ],
   "source": [
    "#load datasets\n",
    "resale_flats = pd.read_csv('ResaleflatpricesbasedonregistrationdatefromJan2017onwards.csv')\n",
    "rent_flats = pd.read_csv('RentingOutofFlatsfromJan2021.csv')\n",
    "print(resale_flats.head())\n",
    "print(rent_flats.head())\n",
    "#some data that are present in 1 dataset are not present in the other\n",
    "#namely story_range, floor area, flat model, lease remaining\n"
   ]
  },
  {
   "cell_type": "code",
   "execution_count": null,
   "id": "3b6d01e7",
   "metadata": {},
   "outputs": [
    {
     "name": "stdout",
     "output_type": "stream",
     "text": [
      "['ANG MO KIO' 'BEDOK' 'BISHAN' 'BUKIT BATOK' 'BUKIT MERAH' 'BUKIT PANJANG'\n",
      " 'BUKIT TIMAH' 'CENTRAL AREA' 'CHOA CHU KANG' 'CLEMENTI' 'GEYLANG'\n",
      " 'HOUGANG' 'JURONG EAST' 'JURONG WEST' 'KALLANG/WHAMPOA' 'MARINE PARADE'\n",
      " 'PASIR RIS' 'PUNGGOL' 'QUEENSTOWN' 'SEMBAWANG' 'SENGKANG' 'SERANGOON'\n",
      " 'TAMPINES' 'TOA PAYOH' 'WOODLANDS' 'YISHUN']\n",
      "['ANG MO KIO' 'BEDOK' 'BISHAN' 'BUKIT BATOK' 'BUKIT MERAH' 'BUKIT PANJANG'\n",
      " 'BUKIT TIMAH' 'CENTRAL' 'CHOA CHU KANG' 'CLEMENTI' 'GEYLANG' 'HOUGANG'\n",
      " 'JURONG EAST' 'JURONG WEST' 'KALLANG/WHAMPOA' 'MARINE PARADE' 'PASIR RIS'\n",
      " 'PUNGGOL' 'QUEENSTOWN' 'SEMBAWANG' 'SENGKANG' 'SERANGOON' 'TAMPINES'\n",
      " 'TOA PAYOH' 'WOODLANDS' 'YISHUN' 'TENGAH']\n",
      "25\n"
     ]
    }
   ],
   "source": [
    "#preprocessing\n",
    "#Using towns as common key for clustering\n",
    "resale_towns = resale_flats['town'].unique()\n",
    "rent_towns = rent_flats['town'].unique()\n",
    "\n",
    "print(resale_towns)\n",
    "print(rent_towns)\n",
    "#rent_towns has Central Area which is not present in resale_towns (central) \n",
    "#So we will replace Central Area with Central in rent_flats\n",
    "rent_flats['town'] = rent_flats['town'].replace('CENTRAL AREA', 'CENTRAL')\n",
    "#resale_towns does not have TENGAH but rent_towns has TENGAH\n",
    "#we will not use tengah in our analysis as a result (total 25 towns)\n",
    "common_towns = set(resale_towns).intersection(set(rent_towns))\n",
    "print(len(common_towns))\n",
    "#drop rows with towns not in common_towns, these will be used as a direct comparison\n",
    "resale_flats_clean = resale_flats[resale_flats['town'].isin(common_towns)] \n",
    "rent_flats_clean = rent_flats[rent_flats['town'].isin(common_towns)]\n",
    "\n"
   ]
  }
 ],
 "metadata": {
  "kernelspec": {
   "display_name": "Python 3",
   "language": "python",
   "name": "python3"
  },
  "language_info": {
   "codemirror_mode": {
    "name": "ipython",
    "version": 3
   },
   "file_extension": ".py",
   "mimetype": "text/x-python",
   "name": "python",
   "nbconvert_exporter": "python",
   "pygments_lexer": "ipython3",
   "version": "3.12.10"
  }
 },
 "nbformat": 4,
 "nbformat_minor": 5
}
